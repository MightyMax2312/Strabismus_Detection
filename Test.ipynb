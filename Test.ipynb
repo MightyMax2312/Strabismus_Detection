{
 "cells": [
  {
   "cell_type": "code",
   "execution_count": null,
   "metadata": {},
   "outputs": [],
   "source": [
    "import tensorflow as tf\n",
    "import os\n",
    "import numpy as np\n",
    "from tensorflow.keras.preprocessing.image import ImageDataGenerator,load_img, img_to_array\n",
    "from tensorflow.keras.models import load_model"
   ]
  },
  {
   "cell_type": "code",
   "execution_count": 8,
   "metadata": {},
   "outputs": [
    {
     "name": "stderr",
     "output_type": "stream",
     "text": [
      "WARNING:absl:Compiled the loaded model, but the compiled metrics have yet to be built. `model.compile_metrics` will be empty until you train or evaluate the model.\n"
     ]
    }
   ],
   "source": [
    "#Importing librarires to load and save the model\n",
    "from tensorflow.keras.models import load_model\n",
    "\n",
    "# Load the saved model\n",
    "model = load_model('C:/Users/Swarnim/Desktop/strabismus jupyter/model/strabismus_detection_model.h5') "
   ]
  },
  {
   "cell_type": "code",
   "execution_count": 9,
   "metadata": {},
   "outputs": [],
   "source": [
    "test_folder_path = 'C:/Users/Swarnim/Desktop/strabismus jupyter/photu'  #Change it to the testing dataset path"
   ]
  },
  {
   "cell_type": "code",
   "execution_count": 10,
   "metadata": {},
   "outputs": [],
   "source": [
    "# import requests\n",
    "\n",
    "# # Replace this with the IP address of your ESP32-CAM\n",
    "# esp32cam_ip = \"http://192.168.152.156/capture.jpg\"\n",
    "\n",
    "# # Path to save the image on your PC\n",
    "# save_path = \"D:/image/captured_image.jpg\" # change this to the path where you will store the image\n",
    "\n",
    "# try:\n",
    "#     print(\"Fetching image from ESP32-CAM...\")\n",
    "#     # Send GET request to ESP32-CAM\n",
    "#     response = requests.get(esp32cam_ip, stream=True)\n",
    "    \n",
    "#     if response.status_code == 200:\n",
    "#         # Save the image to the specified path\n",
    "#         with open(save_path, \"wb\") as file:\n",
    "#             for chunk in response.iter_content(chunk_size=1024):\n",
    "#                 file.write(chunk)\n",
    "#         print(f\"Image saved successfully at: {save_path}\")\n",
    "#     else:\n",
    "#         print(f\"Failed to fetch image. HTTP status code: {response.status_code}\")\n",
    "# except Exception as e:\n",
    "#     print(f\"An error occurred: {e}\")"
   ]
  },
  {
   "cell_type": "code",
   "execution_count": 11,
   "metadata": {},
   "outputs": [
    {
     "name": "stdout",
     "output_type": "stream",
     "text": [
      "\u001b[1m1/1\u001b[0m \u001b[32m━━━━━━━━━━━━━━━━━━━━\u001b[0m\u001b[37m\u001b[0m \u001b[1m1s\u001b[0m 1s/step   \n",
      "Prediction for C:/Users/Swarnim/Desktop/strabismus jupyter/photu\\4.jpg: [[0.3249522]]\n",
      "Predicted: Normal\n",
      "\u001b[1m1/1\u001b[0m \u001b[32m━━━━━━━━━━━━━━━━━━━━\u001b[0m\u001b[37m\u001b[0m \u001b[1m0s\u001b[0m 484ms/step\n",
      "Prediction for C:/Users/Swarnim/Desktop/strabismus jupyter/photu\\5.jpg: [[0.8226335]]\n",
      "Predicted: Strabismus\n",
      "\u001b[1m1/1\u001b[0m \u001b[32m━━━━━━━━━━━━━━━━━━━━\u001b[0m\u001b[37m\u001b[0m \u001b[1m0s\u001b[0m 408ms/step\n",
      "Prediction for C:/Users/Swarnim/Desktop/strabismus jupyter/photu\\6.jpg: [[0.190681]]\n",
      "Predicted: Normal\n"
     ]
    }
   ],
   "source": [
    "# Get all image file paths from the folder\n",
    "image_paths = [os.path.join(test_folder_path, fname) for fname in os.listdir(test_folder_path) if fname.lower().endswith(('.png', '.jpg', '.jpeg'))]\n",
    "\n",
    "# Iterate through each image file, preprocess it, and make predictions\n",
    "for img_path in image_paths:\n",
    "    img = load_img(img_path, target_size=(96, 96))  # Resize image to match model input\n",
    "    img_array = img_to_array(img) / 255.0  # Normalize pixel values\n",
    "    img_array = np.expand_dims(img_array, axis=0)  # Expand dimensions to match model input shape\n",
    "\n",
    "    prediction = model.predict(img_array)\n",
    "    print(f\"Prediction for {img_path}: {prediction}\")\n",
    "\n",
    "    if prediction[0] > 0.5:\n",
    "        print(\"Predicted: Strabismus\")\n",
    "    else:\n",
    "        print(\"Predicted: Normal\")"
   ]
  }
 ],
 "metadata": {
  "kernelspec": {
   "display_name": "nemo_env",
   "language": "python",
   "name": "python3"
  },
  "language_info": {
   "codemirror_mode": {
    "name": "ipython",
    "version": 3
   },
   "file_extension": ".py",
   "mimetype": "text/x-python",
   "name": "python",
   "nbconvert_exporter": "python",
   "pygments_lexer": "ipython3",
   "version": "3.9.18"
  }
 },
 "nbformat": 4,
 "nbformat_minor": 2
}
